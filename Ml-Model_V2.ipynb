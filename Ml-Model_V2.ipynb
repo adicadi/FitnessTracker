{
 "cells": [
  {
   "cell_type": "code",
   "execution_count": 1,
   "metadata": {},
   "outputs": [
    {
     "name": "stdout",
     "output_type": "stream",
     "text": [
      "<class 'pandas.core.frame.DataFrame'>\n",
      "RangeIndex: 973 entries, 0 to 972\n",
      "Data columns (total 15 columns):\n",
      " #   Column                         Non-Null Count  Dtype  \n",
      "---  ------                         --------------  -----  \n",
      " 0   Age                            973 non-null    int64  \n",
      " 1   Gender                         973 non-null    object \n",
      " 2   Weight (kg)                    973 non-null    float64\n",
      " 3   Height (m)                     973 non-null    float64\n",
      " 4   Max_BPM                        973 non-null    int64  \n",
      " 5   Avg_BPM                        973 non-null    int64  \n",
      " 6   Resting_BPM                    973 non-null    int64  \n",
      " 7   Session_Duration (hours)       973 non-null    float64\n",
      " 8   Calories_Burned                973 non-null    int64  \n",
      " 9   Workout_Type                   973 non-null    object \n",
      " 10  Fat_Percentage                 973 non-null    float64\n",
      " 11  Water_Intake (liters)          973 non-null    float64\n",
      " 12  Workout_Frequency (days/week)  973 non-null    int64  \n",
      " 13  Level                          973 non-null    int64  \n",
      " 14  BMI                            973 non-null    float64\n",
      "dtypes: float64(6), int64(7), object(2)\n",
      "memory usage: 114.2+ KB\n"
     ]
    }
   ],
   "source": [
    "import pandas as pd\n",
    "\n",
    "gym_dataset_path = 'gym_exercise_data/megaGymDataset.csv'\n",
    "tracking_dataset_path = 'gym_exercise_data/gym_members_exercise_tracking.csv'\n",
    "\n",
    "gym_dataset = pd.read_csv(gym_dataset_path)\n",
    "tracking_dataset = pd.read_csv(tracking_dataset_path)\n",
    "\n",
    "tracking_dataset.head()\n",
    "tracking_dataset.info()"
   ]
  },
  {
   "cell_type": "code",
   "execution_count": 2,
   "metadata": {},
   "outputs": [
    {
     "data": {
      "text/plain": [
       "Level\n",
       "Intermediate    406\n",
       "Beginner        376\n",
       "Advanced        191\n",
       "Name: count, dtype: int64"
      ]
     },
     "execution_count": 2,
     "metadata": {},
     "output_type": "execute_result"
    }
   ],
   "source": [
    "level_mapping = {1: 'Beginner', 2: 'Intermediate', 3: 'Advanced'}\n",
    "tracking_dataset['Level'] = tracking_dataset['Level'].map(level_mapping)\n",
    "\n",
    "tracking_dataset['Level'].value_counts()"
   ]
  },
  {
   "cell_type": "code",
   "execution_count": 3,
   "metadata": {},
   "outputs": [
    {
     "data": {
      "text/plain": [
       "(array(['Advanced', 'Intermediate', 'Beginner'], dtype=object),\n",
       " array(['Intermediate', 'Beginner', 'Expert'], dtype=object))"
      ]
     },
     "execution_count": 3,
     "metadata": {},
     "output_type": "execute_result"
    }
   ],
   "source": [
    "# Check unique values in the 'Level' column for both datasets\n",
    "unique_levels_tracking = tracking_dataset['Level'].unique()\n",
    "unique_levels_gym = gym_dataset['Level'].unique()\n",
    "\n",
    "unique_levels_tracking, unique_levels_gym\n"
   ]
  },
  {
   "cell_type": "code",
   "execution_count": 4,
   "metadata": {},
   "outputs": [
    {
     "data": {
      "text/plain": [
       "(array(['Expert', 'Intermediate', 'Beginner'], dtype=object),\n",
       " array(['Intermediate', 'Beginner', 'Expert'], dtype=object))"
      ]
     },
     "execution_count": 4,
     "metadata": {},
     "output_type": "execute_result"
    }
   ],
   "source": [
    "# Replace 'advanced' with 'expert' in the tracking dataset\n",
    "tracking_dataset['Level'] = tracking_dataset['Level'].replace('Advanced', 'Expert')\n",
    "\n",
    "# Verify unique values in the 'Level' column for both datasets\n",
    "unique_levels_tracking = tracking_dataset['Level'].unique()\n",
    "unique_levels_gym = gym_dataset['Level'].unique()\n",
    "\n",
    "unique_levels_tracking, unique_levels_gym\n"
   ]
  },
  {
   "cell_type": "code",
   "execution_count": 5,
   "metadata": {},
   "outputs": [
    {
     "name": "stdout",
     "output_type": "stream",
     "text": [
      "<class 'pandas.core.frame.DataFrame'>\n",
      "RangeIndex: 1168143 entries, 0 to 1168142\n",
      "Data columns (total 23 columns):\n",
      " #   Column                         Non-Null Count    Dtype  \n",
      "---  ------                         --------------    -----  \n",
      " 0   Age                            1168143 non-null  int64  \n",
      " 1   Gender                         1168143 non-null  object \n",
      " 2   Weight (kg)                    1168143 non-null  float64\n",
      " 3   Height (m)                     1168143 non-null  float64\n",
      " 4   Max_BPM                        1168143 non-null  int64  \n",
      " 5   Avg_BPM                        1168143 non-null  int64  \n",
      " 6   Resting_BPM                    1168143 non-null  int64  \n",
      " 7   Session_Duration (hours)       1168143 non-null  float64\n",
      " 8   Calories_Burned                1168143 non-null  int64  \n",
      " 9   Workout_Type                   1168143 non-null  object \n",
      " 10  Fat_Percentage                 1168143 non-null  float64\n",
      " 11  Water_Intake (liters)          1168143 non-null  float64\n",
      " 12  Workout_Frequency (days/week)  1168143 non-null  int64  \n",
      " 13  Level                          1168143 non-null  object \n",
      " 14  BMI                            1168143 non-null  float64\n",
      " 15  Unnamed: 0                     1168143 non-null  int64  \n",
      " 16  Title                          1168143 non-null  object \n",
      " 17  Desc                           550018 non-null   object \n",
      " 18  Type                           1168143 non-null  object \n",
      " 19  BodyPart                       1168143 non-null  object \n",
      " 20  Equipment                      1155901 non-null  object \n",
      " 21  Rating                         403311 non-null   float64\n",
      " 22  RatingDesc                     337397 non-null   object \n",
      "dtypes: float64(7), int64(7), object(9)\n",
      "memory usage: 205.0+ MB\n"
     ]
    },
    {
     "data": {
      "text/html": [
       "<div>\n",
       "<style scoped>\n",
       "    .dataframe tbody tr th:only-of-type {\n",
       "        vertical-align: middle;\n",
       "    }\n",
       "\n",
       "    .dataframe tbody tr th {\n",
       "        vertical-align: top;\n",
       "    }\n",
       "\n",
       "    .dataframe thead th {\n",
       "        text-align: right;\n",
       "    }\n",
       "</style>\n",
       "<table border=\"1\" class=\"dataframe\">\n",
       "  <thead>\n",
       "    <tr style=\"text-align: right;\">\n",
       "      <th></th>\n",
       "      <th>Age</th>\n",
       "      <th>Gender</th>\n",
       "      <th>Weight (kg)</th>\n",
       "      <th>Height (m)</th>\n",
       "      <th>Max_BPM</th>\n",
       "      <th>Avg_BPM</th>\n",
       "      <th>Resting_BPM</th>\n",
       "      <th>Session_Duration (hours)</th>\n",
       "      <th>Calories_Burned</th>\n",
       "      <th>Workout_Type</th>\n",
       "      <th>...</th>\n",
       "      <th>Level</th>\n",
       "      <th>BMI</th>\n",
       "      <th>Unnamed: 0</th>\n",
       "      <th>Title</th>\n",
       "      <th>Desc</th>\n",
       "      <th>Type</th>\n",
       "      <th>BodyPart</th>\n",
       "      <th>Equipment</th>\n",
       "      <th>Rating</th>\n",
       "      <th>RatingDesc</th>\n",
       "    </tr>\n",
       "  </thead>\n",
       "  <tbody>\n",
       "    <tr>\n",
       "      <th>0</th>\n",
       "      <td>56</td>\n",
       "      <td>Male</td>\n",
       "      <td>88.3</td>\n",
       "      <td>1.71</td>\n",
       "      <td>180</td>\n",
       "      <td>157</td>\n",
       "      <td>60</td>\n",
       "      <td>1.69</td>\n",
       "      <td>1313</td>\n",
       "      <td>Yoga</td>\n",
       "      <td>...</td>\n",
       "      <td>expert</td>\n",
       "      <td>30.2</td>\n",
       "      <td>61</td>\n",
       "      <td>Dumbbell Get-Up Sit-Up</td>\n",
       "      <td>NaN</td>\n",
       "      <td>Strength</td>\n",
       "      <td>Abdominals</td>\n",
       "      <td>Dumbbell</td>\n",
       "      <td>NaN</td>\n",
       "      <td>NaN</td>\n",
       "    </tr>\n",
       "    <tr>\n",
       "      <th>1</th>\n",
       "      <td>56</td>\n",
       "      <td>Male</td>\n",
       "      <td>88.3</td>\n",
       "      <td>1.71</td>\n",
       "      <td>180</td>\n",
       "      <td>157</td>\n",
       "      <td>60</td>\n",
       "      <td>1.69</td>\n",
       "      <td>1313</td>\n",
       "      <td>Yoga</td>\n",
       "      <td>...</td>\n",
       "      <td>expert</td>\n",
       "      <td>30.2</td>\n",
       "      <td>1462</td>\n",
       "      <td>Assisted Single-Arm Pull-Up</td>\n",
       "      <td>NaN</td>\n",
       "      <td>Strength</td>\n",
       "      <td>Lats</td>\n",
       "      <td>Other</td>\n",
       "      <td>NaN</td>\n",
       "      <td>NaN</td>\n",
       "    </tr>\n",
       "    <tr>\n",
       "      <th>2</th>\n",
       "      <td>56</td>\n",
       "      <td>Male</td>\n",
       "      <td>88.3</td>\n",
       "      <td>1.71</td>\n",
       "      <td>180</td>\n",
       "      <td>157</td>\n",
       "      <td>60</td>\n",
       "      <td>1.69</td>\n",
       "      <td>1313</td>\n",
       "      <td>Yoga</td>\n",
       "      <td>...</td>\n",
       "      <td>expert</td>\n",
       "      <td>30.2</td>\n",
       "      <td>1463</td>\n",
       "      <td>Assisted Single-Arm Chin-Up</td>\n",
       "      <td>NaN</td>\n",
       "      <td>Strength</td>\n",
       "      <td>Lats</td>\n",
       "      <td>Other</td>\n",
       "      <td>NaN</td>\n",
       "      <td>NaN</td>\n",
       "    </tr>\n",
       "    <tr>\n",
       "      <th>3</th>\n",
       "      <td>56</td>\n",
       "      <td>Male</td>\n",
       "      <td>88.3</td>\n",
       "      <td>1.71</td>\n",
       "      <td>180</td>\n",
       "      <td>157</td>\n",
       "      <td>60</td>\n",
       "      <td>1.69</td>\n",
       "      <td>1313</td>\n",
       "      <td>Yoga</td>\n",
       "      <td>...</td>\n",
       "      <td>expert</td>\n",
       "      <td>30.2</td>\n",
       "      <td>1802</td>\n",
       "      <td>Power snatch-</td>\n",
       "      <td>The power snatch is a full-body lift in which ...</td>\n",
       "      <td>Olympic Weightlifting</td>\n",
       "      <td>Quadriceps</td>\n",
       "      <td>Barbell</td>\n",
       "      <td>9.3</td>\n",
       "      <td>Average</td>\n",
       "    </tr>\n",
       "    <tr>\n",
       "      <th>4</th>\n",
       "      <td>56</td>\n",
       "      <td>Male</td>\n",
       "      <td>88.3</td>\n",
       "      <td>1.71</td>\n",
       "      <td>180</td>\n",
       "      <td>157</td>\n",
       "      <td>60</td>\n",
       "      <td>1.69</td>\n",
       "      <td>1313</td>\n",
       "      <td>Yoga</td>\n",
       "      <td>...</td>\n",
       "      <td>expert</td>\n",
       "      <td>30.2</td>\n",
       "      <td>1806</td>\n",
       "      <td>Narrow-stance squat</td>\n",
       "      <td>The narrow-stance squat is an exercise that ta...</td>\n",
       "      <td>Strength</td>\n",
       "      <td>Quadriceps</td>\n",
       "      <td>Barbell</td>\n",
       "      <td>9.0</td>\n",
       "      <td>Average</td>\n",
       "    </tr>\n",
       "  </tbody>\n",
       "</table>\n",
       "<p>5 rows × 23 columns</p>\n",
       "</div>"
      ],
      "text/plain": [
       "   Age Gender  Weight (kg)  Height (m)  Max_BPM  Avg_BPM  Resting_BPM  \\\n",
       "0   56   Male         88.3        1.71      180      157           60   \n",
       "1   56   Male         88.3        1.71      180      157           60   \n",
       "2   56   Male         88.3        1.71      180      157           60   \n",
       "3   56   Male         88.3        1.71      180      157           60   \n",
       "4   56   Male         88.3        1.71      180      157           60   \n",
       "\n",
       "   Session_Duration (hours)  Calories_Burned Workout_Type  ...   Level   BMI  \\\n",
       "0                      1.69             1313         Yoga  ...  expert  30.2   \n",
       "1                      1.69             1313         Yoga  ...  expert  30.2   \n",
       "2                      1.69             1313         Yoga  ...  expert  30.2   \n",
       "3                      1.69             1313         Yoga  ...  expert  30.2   \n",
       "4                      1.69             1313         Yoga  ...  expert  30.2   \n",
       "\n",
       "   Unnamed: 0                        Title  \\\n",
       "0          61       Dumbbell Get-Up Sit-Up   \n",
       "1        1462  Assisted Single-Arm Pull-Up   \n",
       "2        1463  Assisted Single-Arm Chin-Up   \n",
       "3        1802                Power snatch-   \n",
       "4        1806          Narrow-stance squat   \n",
       "\n",
       "                                                Desc                   Type  \\\n",
       "0                                                NaN               Strength   \n",
       "1                                                NaN               Strength   \n",
       "2                                                NaN               Strength   \n",
       "3  The power snatch is a full-body lift in which ...  Olympic Weightlifting   \n",
       "4  The narrow-stance squat is an exercise that ta...               Strength   \n",
       "\n",
       "     BodyPart Equipment Rating RatingDesc  \n",
       "0  Abdominals  Dumbbell    NaN        NaN  \n",
       "1        Lats     Other    NaN        NaN  \n",
       "2        Lats     Other    NaN        NaN  \n",
       "3  Quadriceps   Barbell    9.3    Average  \n",
       "4  Quadriceps   Barbell    9.0    Average  \n",
       "\n",
       "[5 rows x 23 columns]"
      ]
     },
     "execution_count": 5,
     "metadata": {},
     "output_type": "execute_result"
    }
   ],
   "source": [
    "tracking_dataset['Level'] = tracking_dataset['Level'].str.lower()\n",
    "gym_dataset['Level'] = gym_dataset['Level'].str.lower()\n",
    "\n",
    "merged_dataset = pd.merge( \n",
    "    tracking_dataset,\n",
    "    gym_dataset,\n",
    "    on='Level',\n",
    "    how='inner')\n",
    "\n",
    "merged_dataset.info()\n",
    "merged_dataset.head()"
   ]
  },
  {
   "cell_type": "code",
   "execution_count": 6,
   "metadata": {},
   "outputs": [
    {
     "name": "stdout",
     "output_type": "stream",
     "text": [
      "Processed Dataset:\n",
      "<class 'pandas.core.frame.DataFrame'>\n",
      "Index: 50000 entries, 729850 to 255149\n",
      "Data columns (total 6 columns):\n",
      " #   Column        Non-Null Count  Dtype  \n",
      "---  ------        --------------  -----  \n",
      " 0   Age           50000 non-null  int32  \n",
      " 1   Weight (kg)   50000 non-null  float32\n",
      " 2   BMI           50000 non-null  float32\n",
      " 3   Workout_Type  50000 non-null  int64  \n",
      " 4   Level         50000 non-null  int64  \n",
      " 5   Title         50000 non-null  int64  \n",
      "dtypes: float32(2), int32(1), int64(3)\n",
      "memory usage: 2.1 MB\n",
      "None\n",
      "X_train: (40000, 5), X_test: (10000, 5)\n"
     ]
    }
   ],
   "source": [
    "import pandas as pd\n",
    "from sklearn.preprocessing import LabelEncoder\n",
    "from sklearn.model_selection import train_test_split\n",
    "from sklearn.ensemble import RandomForestClassifier\n",
    "from sklearn.metrics import accuracy_score, classification_report\n",
    "\n",
    "# Step 1: Take a random sample of 50,000 rows\n",
    "sample_size = 50000  # You can adjust this size based on your system's capacity\n",
    "sampled_dataset = merged_dataset.sample(n=sample_size, random_state=42)\n",
    "\n",
    "# Step 2: Select relevant columns for features and target\n",
    "columns_needed = ['Age', 'Weight (kg)', 'BMI', 'Workout_Type', 'Level', 'Title']\n",
    "processed_dataset = sampled_dataset[columns_needed]\n",
    "\n",
    "# Step 3: Drop rows with missing values\n",
    "processed_dataset = processed_dataset.dropna()\n",
    "\n",
    "# Step 4: Optimize data types\n",
    "processed_dataset['Workout_Type'] = processed_dataset['Workout_Type'].astype('category')\n",
    "processed_dataset['Level'] = processed_dataset['Level'].astype('category')\n",
    "processed_dataset['Title'] = processed_dataset['Title'].astype('category')\n",
    "processed_dataset['Age'] = processed_dataset['Age'].astype('int32')\n",
    "processed_dataset['Weight (kg)'] = processed_dataset['Weight (kg)'].astype('float32')\n",
    "processed_dataset['BMI'] = processed_dataset['BMI'].astype('float32')\n",
    "\n",
    "# Step 5: Encode categorical variables\n",
    "label_enc = LabelEncoder()\n",
    "processed_dataset['Workout_Type'] = label_enc.fit_transform(processed_dataset['Workout_Type'])\n",
    "processed_dataset['Level'] = label_enc.fit_transform(processed_dataset['Level'])\n",
    "processed_dataset['Title'] = label_enc.fit_transform(processed_dataset['Title'])  # Target variable\n",
    "\n",
    "# Step 6: Define features (X) and target (y)\n",
    "X = processed_dataset[['Age', 'Weight (kg)', 'BMI', 'Workout_Type', 'Level']]\n",
    "y = processed_dataset['Title']\n",
    "\n",
    "# Step 7: Train-test split\n",
    "X_train, X_test, y_train, y_test = train_test_split(X, y, test_size=0.2, random_state=42, stratify=y)\n",
    "\n",
    "# Verify the dataset size and memory usage\n",
    "print(\"Processed Dataset:\")\n",
    "print(processed_dataset.info(memory_usage=\"deep\"))\n",
    "print(f\"X_train: {X_train.shape}, X_test: {X_test.shape}\")\n"
   ]
  },
  {
   "cell_type": "code",
   "execution_count": 7,
   "metadata": {},
   "outputs": [
    {
     "name": "stdout",
     "output_type": "stream",
     "text": [
      "Number of unique classes in y: 2909\n",
      "Class distribution:\n",
      " Title\n",
      "317     61\n",
      "267     44\n",
      "613     41\n",
      "2254    38\n",
      "2304    37\n",
      "753     36\n",
      "779     35\n",
      "434     34\n",
      "226     34\n",
      "2456    32\n",
      "2295    31\n",
      "2212    30\n",
      "824     30\n",
      "710     30\n",
      "2403    30\n",
      "237     30\n",
      "740     30\n",
      "100     29\n",
      "2256    29\n",
      "1055    29\n",
      "Name: count, dtype: int64\n"
     ]
    }
   ],
   "source": [
    "# Check the number of unique classes in y\n",
    "print(f\"Number of unique classes in y: {y.nunique()}\")\n",
    "\n",
    "# Check class distribution\n",
    "class_distribution = y.value_counts()\n",
    "print(\"Class distribution:\\n\", class_distribution.head(20))  # Show the top 20 classes\n"
   ]
  },
  {
   "cell_type": "code",
   "execution_count": 8,
   "metadata": {},
   "outputs": [
    {
     "name": "stdout",
     "output_type": "stream",
     "text": [
      "Class distribution after SMOTE:\n",
      "Title\n",
      "4    43786\n",
      "5    43786\n",
      "2    43786\n",
      "6    43786\n",
      "1    43786\n",
      "0    43786\n",
      "3    43786\n",
      "Name: count, dtype: int64\n",
      "X_train: (245201, 5), X_test: (61301, 5)\n"
     ]
    }
   ],
   "source": [
    "import pandas as pd\n",
    "from sklearn.preprocessing import LabelEncoder\n",
    "from sklearn.model_selection import train_test_split\n",
    "from imblearn.over_sampling import SMOTE\n",
    "\n",
    "# Step 1: Group exercises into broader categories\n",
    "# Replace 'Title' with a broader category like 'Type'\n",
    "processed_dataset['Title'] = merged_dataset['Type'].astype('category').cat.codes  # Encode 'Type'\n",
    "\n",
    "# Redefine features (X) and target (y)\n",
    "X = processed_dataset[['Age', 'Weight (kg)', 'BMI', 'Workout_Type', 'Level']]\n",
    "y = processed_dataset['Title']\n",
    "\n",
    "# Step 2: Balance the data with SMOTE\n",
    "smote = SMOTE(random_state=42)\n",
    "X_resampled, y_resampled = smote.fit_resample(X, y)\n",
    "\n",
    "# Verify the class distribution after SMOTE\n",
    "print(\"Class distribution after SMOTE:\")\n",
    "print(pd.Series(y_resampled).value_counts())\n",
    "\n",
    "# Step 3: Train-test split with balanced data\n",
    "X_train, X_test, y_train, y_test = train_test_split(X_resampled, y_resampled, test_size=0.2, random_state=42, stratify=y_resampled)\n",
    "\n",
    "# Display processed dataset info and train-test sizes\n",
    "print(f\"X_train: {X_train.shape}, X_test: {X_test.shape}\")\n"
   ]
  },
  {
   "cell_type": "code",
   "execution_count": 9,
   "metadata": {},
   "outputs": [
    {
     "name": "stdout",
     "output_type": "stream",
     "text": [
      "New number of classes in y: 7\n"
     ]
    }
   ],
   "source": [
    "# Replace Title with a broader category (e.g., 'Type' or 'BodyPart')\n",
    "processed_dataset['Title'] = merged_dataset['Type'].astype('category').cat.codes  # Encode 'Type'\n",
    "\n",
    "# Redefine X and y\n",
    "X = processed_dataset[['Age', 'Weight (kg)', 'BMI', 'Workout_Type', 'Level']]\n",
    "y = processed_dataset['Title']\n",
    "\n",
    "# Check the new number of classes\n",
    "print(f\"New number of classes in y: {y.nunique()}\")\n"
   ]
  },
  {
   "cell_type": "code",
   "execution_count": 10,
   "metadata": {},
   "outputs": [
    {
     "name": "stdout",
     "output_type": "stream",
     "text": [
      "Class distribution after SMOTE:\n",
      " Title\n",
      "4    43786\n",
      "5    43786\n",
      "2    43786\n",
      "6    43786\n",
      "1    43786\n",
      "0    43786\n",
      "3    43786\n",
      "Name: count, dtype: int64\n"
     ]
    }
   ],
   "source": [
    "from imblearn.over_sampling import SMOTE\n",
    "\n",
    "# Apply SMOTE to balance the dataset\n",
    "smote = SMOTE(random_state=42)\n",
    "X_resampled, y_resampled = smote.fit_resample(X, y)\n",
    "\n",
    "# Check the distribution of classes after SMOTE\n",
    "print(\"Class distribution after SMOTE:\\n\", pd.Series(y_resampled).value_counts())\n"
   ]
  },
  {
   "cell_type": "code",
   "execution_count": 11,
   "metadata": {},
   "outputs": [
    {
     "name": "stdout",
     "output_type": "stream",
     "text": [
      "Model Accuracy: 59.59%\n",
      "Classification Report:\n",
      "               precision    recall  f1-score   support\n",
      "\n",
      "           0       0.66      0.60      0.63      8757\n",
      "           1       0.63      0.67      0.65      8757\n",
      "           2       0.49      0.42      0.45      8757\n",
      "           3       0.62      0.62      0.62      8758\n",
      "           4       0.57      0.68      0.62      8757\n",
      "           5       0.44      0.42      0.43      8757\n",
      "           6       0.74      0.76      0.75      8758\n",
      "\n",
      "    accuracy                           0.60     61301\n",
      "   macro avg       0.59      0.60      0.59     61301\n",
      "weighted avg       0.59      0.60      0.59     61301\n",
      "\n"
     ]
    },
    {
     "data": {
      "image/png": "[encoded data removed]",
      "text/plain": [
       "<Figure size 640x480 with 1 Axes>"
      ]
     },
     "metadata": {},
     "output_type": "display_data"
    }
   ],
   "source": [
    "from sklearn.ensemble import RandomForestClassifier\n",
    "from sklearn.metrics import accuracy_score, classification_report\n",
    "import matplotlib.pyplot as plt\n",
    "\n",
    "model = RandomForestClassifier(random_state=42)\n",
    "model.fit(X_train, y_train)\n",
    "\n",
    "y_pred = model.predict(X_test)\n",
    "\n",
    "accuracy = accuracy_score(y_test, y_pred)\n",
    "print(f\"Model Accuracy: {accuracy * 100:.2f}%\")\n",
    "\n",
    "report = classification_report(y_test, y_pred)\n",
    "print(\"Classification Report:\\n\", report)\n",
    "\n",
    "feature_importances = model.feature_importances_\n",
    "feature_names = X_train.columns\n",
    "\n",
    "plt.barh(feature_names, feature_importances)\n",
    "plt.xlabel(\"Importance\")\n",
    "plt.ylabel(\"Feature\")\n",
    "plt.title(\"Feature Importance\")\n",
    "plt.show()"
   ]
  }
 ],
 "metadata": {
  "kernelspec": {
   "display_name": ".venv",
   "language": "python",
   "name": "python3"
  },
  "language_info": {
   "codemirror_mode": {
    "name": "ipython",
    "version": 3
   },
   "file_extension": ".py",
   "mimetype": "text/x-python",
   "name": "python",
   "nbconvert_exporter": "python",
   "pygments_lexer": "ipython3",
   "version": "3.13.1"
  }
 },
 "nbformat": 4,
 "nbformat_minor": 2
}
